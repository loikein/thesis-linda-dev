{
 "cells": [
  {
   "cell_type": "code",
   "execution_count": 1,
   "metadata": {},
   "outputs": [],
   "source": [
    "# Test the code for the shapley function\n",
    "import numpy as np\n",
    "import openturns as ot"
   ]
  },
  {
   "cell_type": "code",
   "execution_count": 2,
   "metadata": {},
   "outputs": [],
   "source": [
    "# inputs\n",
    "mean = np.zeros(3)\n",
    "\n",
    "cov = np.array([[1.0,0,0], [0,1,1.8], [0, 1.8, 4.0]])\n",
    "cov = ot.CovarianceMatrix(cov)\n",
    "\n",
    "X = np.array([[0,0.0,0], [1,1,1]])\n",
    "\n",
    "# inputs for Conditional mean function\n",
    "#dependent_ind = np.array([1,0])\n",
    "#given_ind= np.array([2])\n",
    "#X_given= np.array([10])"
   ]
  },
  {
   "cell_type": "code",
   "execution_count": 3,
   "metadata": {},
   "outputs": [],
   "source": [
    "# Definition of the toy model\n",
    "def model(X):\n",
    "    return np.sum(X,1)"
   ]
  },
  {
   "cell_type": "code",
   "execution_count": 4,
   "metadata": {},
   "outputs": [],
   "source": [
    "# Conditional multivariate mean function\n",
    "\n",
    "def condMVN(mean, cov, dependent_ind, given_ind, X_given):\n",
    "    \"\"\" Returns conditional mean and variance of X[dependent.ind] | X[given.ind] = X.given\n",
    "    where X is multivariateNormal(mean = mean, covariance = cov)\"\"\"\n",
    "    \n",
    "    cov = np.array(cov)\n",
    "    \n",
    "    B = cov.take(dependent_ind, axis = 1)\n",
    "    B = B[dependent_ind]\n",
    "    \n",
    "    C = cov.take(dependent_ind, axis = 1)\n",
    "    C = C[given_ind]\n",
    "    \n",
    "    D = cov.take(given_ind, axis = 1)\n",
    "    D = D[given_ind]\n",
    "    \n",
    "    CDinv = np.dot(np.transpose(C),np.linalg.inv(D))\n",
    "    \n",
    "    condMean = mean[dependent_ind] + np.dot(CDinv,(X_given - mean[given_ind]))\n",
    "    condVar = B - np.dot(CDinv,C)\n",
    "    condVar = ot.CovarianceMatrix(condVar)\n",
    "    \n",
    "    return condMean,condVar"
   ]
  },
  {
   "cell_type": "code",
   "execution_count": 5,
   "metadata": {},
   "outputs": [],
   "source": [
    "# Function to simulate conditional gausian distribution\n",
    "\n",
    "def r_condMVN(n, mean, cov, dependent_ind, given_ind, X_given):\n",
    "    \"\"\" Function to simulate conditional gaussian distribution of X[dependent.ind] | X[given.ind] = X.given\n",
    "    where X is multivariateNormal(mean = mean, covariance = cov)\"\"\"\n",
    "    \n",
    "    cond_mean,cond_var = condMVN(mean, cov, dependent_ind, given_ind, X_given)\n",
    "    distribution = ot.Normal(cond_mean,cond_var)\n",
    "    return distribution.getSample(n)"
   ]
  },
  {
   "cell_type": "code",
   "execution_count": 6,
   "metadata": {},
   "outputs": [],
   "source": [
    "# Definition of Shapely indices function\n",
    "\n",
    "Nv = 10**4\n",
    "No = 10**3\n",
    "Ni = 3\n",
    "\n",
    "Sj = np.array([0,1,2])\n",
    "#Sjc= np.array([2])\n",
    "#xjc = np.array([10])\n",
    "xjc = X\n",
    "n = Nv\n",
    "\n",
    "d = 3\n",
    "perms_tool = ot.KPermutations(d, d)\n",
    "perms = perms_tool.generate()\n",
    "\n",
    "m = perms.getSize() # number of permutations\n",
    "\n",
    "def Xall(n):\n",
    "    distribution = ot.Normal(mean,cov)\n",
    "    return distribution.getSample(n)\n",
    "\n",
    "def Xcond(n, Sj, Sjc, xjc):\n",
    "    if Sjc is None:\n",
    "        cov_int = np.array(cov)\n",
    "        cov_int = cov_int.take(Sj, axis = 1)\n",
    "        cov_int = cov_int[Sj]        \n",
    "        cov_int = ot.CovarianceMatrix(cov_int)\n",
    "        distribution = ot.Normal(mean[Sj],cov_int)\n",
    "        return distribution.getSample(n)\n",
    "    else:\n",
    "        return r_condMVN(n,mean = mean, cov = cov, dependent_ind = Sj, given_ind = Sjc, X_given = xjc)"
   ]
  },
  {
   "cell_type": "code",
   "execution_count": 7,
   "metadata": {},
   "outputs": [
    {
     "data": {
      "text/html": [
       "<TABLE><TR><TD></TD><TH>X0</TH><TH>X1</TH><TH>X2</TH></TR>\n",
       "<TR><TH>0</TH><TD>0.6082017</TD><TD>-1.266173</TD><TD>-2.661183</TD></TR>\n",
       "<TR><TH>1</TH><TD>1.205478</TD><TD>-2.181385</TD><TD>-3.621334</TD></TR>\n",
       "<TR><TH>2</TH><TD>-0.355007</TD><TD>1.437249</TD><TD>3.293773</TD></TR>\n",
       "<TR><TD COLSPAN=\"4\">...</TD></TR>\n",
       "<TR><TH>9997</TH><TD>-1.653414</TD><TD>-0.1258255</TD><TD>0.151116</TD></TR>\n",
       "<TR><TH>9998</TH><TD>0.500173</TD><TD>-0.6839069</TD><TD>-1.129571</TD></TR>\n",
       "<TR><TH>9999</TH><TD>-0.3638957</TD><TD>-0.5947165</TD><TD>-0.2126246</TD></TR>\n",
       "</TABLE>"
      ],
      "text/plain": [
       "class=Sample name=Normal implementation=class=SampleImplementation name=Normal size=10000 dimension=3 description=[X0,X1,X2] data=[[0.608202,-1.26617,-2.66118],[1.20548,-2.18139,-3.62133],[-0.355007,1.43725,3.29377],...,[-1.65341,-0.125826,0.151116],[0.500173,-0.683907,-1.12957],[-0.363896,-0.594717,-0.212625]]"
      ]
     },
     "execution_count": 7,
     "metadata": {},
     "output_type": "execute_result"
    }
   ],
   "source": [
    "# example to calculate Xcond set of conditional inputs\n",
    "# question: where do the inputs come from in respy?\n",
    "cov_int = np.array(cov)\n",
    "cov_int = cov_int.take(Sj, axis = 1)\n",
    "cov_int = cov_int[Sj]        \n",
    "cov_int = ot.CovarianceMatrix(cov_int)\n",
    "distribution = ot.Normal(mean[Sj],cov_int)\n",
    "distribution.getSample(n)"
   ]
  },
  {
   "cell_type": "code",
   "execution_count": 22,
   "metadata": {},
   "outputs": [
    {
     "data": {
      "text/html": [
       "<p>Normal(mu = [0,0,0], sigma = [1,1,2], R = [[ 1   0   0   ]<br>\n",
       " [ 0   1   0.9 ]<br>\n",
       " [ 0   0.9 1   ]])</p>"
      ],
      "text/plain": [
       "class=Normal name=Normal dimension=3 mean=class=Point name=Unnamed dimension=3 values=[0,0,0] sigma=class=Point name=Unnamed dimension=3 values=[1,1,2] correlationMatrix=class=CorrelationMatrix dimension=3 implementation=class=MatrixImplementation name=Unnamed rows=3 columns=3 values=[1,0,0,0,1,0.9,0,0.9,1]"
      ]
     },
     "execution_count": 22,
     "metadata": {},
     "output_type": "execute_result"
    }
   ],
   "source": [
    "distribution\n"
   ]
  },
  {
   "cell_type": "code",
   "execution_count": null,
   "metadata": {},
   "outputs": [],
   "source": []
  },
  {
   "cell_type": "code",
   "execution_count": null,
   "metadata": {},
   "outputs": [],
   "source": []
  }
 ],
 "metadata": {
  "kernelspec": {
   "display_name": "Python 3",
   "language": "python",
   "name": "python3"
  },
  "language_info": {
   "codemirror_mode": {
    "name": "ipython",
    "version": 3
   },
   "file_extension": ".py",
   "mimetype": "text/x-python",
   "name": "python",
   "nbconvert_exporter": "python",
   "pygments_lexer": "ipython3",
   "version": "3.7.7"
  }
 },
 "nbformat": 4,
 "nbformat_minor": 4
}
