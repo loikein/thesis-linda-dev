{
 "cells": [
  {
   "cell_type": "code",
   "execution_count": 1,
   "metadata": {
    "collapsed": true,
    "jupyter": {
     "outputs_hidden": true
    }
   },
   "outputs": [],
   "source": [
    "import openturns as ot\n",
    "import numpy as np\n",
    "import pandas as pd\n",
    "import matplotlib.pyplot as plt"
   ]
  },
  {
   "cell_type": "markdown",
   "metadata": {},
   "source": [
    "## Function for conditional gaussian vector"
   ]
  },
  {
   "cell_type": "markdown",
   "metadata": {},
   "source": [
    "#### Calcul of conditional mean and variance"
   ]
  },
  {
   "cell_type": "code",
   "execution_count": 2,
   "metadata": {
    "collapsed": true,
    "jupyter": {
     "outputs_hidden": true
    }
   },
   "outputs": [],
   "source": [
    "def condMVN(mean, cov, dependent_ind, given_ind, X_given):\n",
    "    \n",
    "    \"\"\" Returns conditional mean and variance of X[dependent.ind] | X[given.ind] = X.given\n",
    "    where X is multivariateNormal(mean = mean, covariance = cov)\"\"\"\n",
    "    \n",
    "    cov = np.array(cov)\n",
    "    \n",
    "    B = cov.take(dependent_ind, axis = 1)\n",
    "    B = B[dependent_ind]\n",
    "    \n",
    "    C = cov.take(dependent_ind, axis = 1)\n",
    "    C = C[given_ind]\n",
    "    \n",
    "    D = cov.take(given_ind, axis = 1)\n",
    "    D = D[given_ind]\n",
    "    \n",
    "    CDinv = np.dot(np.transpose(C),np.linalg.inv(D))\n",
    "    \n",
    "    condMean = mean[dependent_ind] + np.dot(CDinv,(X_given - mean[given_ind]))\n",
    "    condVar = B - np.dot(CDinv,C)\n",
    "    condVar = ot.CovarianceMatrix(condVar)\n",
    "    \n",
    "    return condMean,condVar"
   ]
  },
  {
   "cell_type": "markdown",
   "metadata": {},
   "source": [
    "#### Generate conditional law"
   ]
  },
  {
   "cell_type": "code",
   "execution_count": 3,
   "metadata": {
    "collapsed": true,
    "jupyter": {
     "outputs_hidden": true
    }
   },
   "outputs": [],
   "source": [
    "def r_condMVN(n, mean, cov, dependent_ind, given_ind, X_given):\n",
    "    \n",
    "    \"\"\" Function to simulate conditional gaussian distribution of X[dependent.ind] | X[given.ind] = X.given\n",
    "    where X is multivariateNormal(mean = mean, covariance = cov)\"\"\"\n",
    "    \n",
    "    cond_mean,cond_var = condMVN(mean, cov, dependent_ind, given_ind, X_given)\n",
    "    distribution = ot.Normal(cond_mean,cond_var)\n",
    "    return distribution.getSample(n)"
   ]
  },
  {
   "cell_type": "markdown",
   "metadata": {},
   "source": [
    "#### Shapley effects of gaussian linear model with three inputs"
   ]
  },
  {
   "cell_type": "code",
   "execution_count": 4,
   "metadata": {
    "collapsed": true,
    "jupyter": {
     "outputs_hidden": true
    }
   },
   "outputs": [],
   "source": [
    "def Sh_effects_gaussian_linear_model(coeff_model, cov_matrix, corr):\n",
    "    \n",
    "    \"\"\" Function to calculate the Shapley effects on a gaussian linear model with three inputs\n",
    "    \n",
    "    We assume X1 is independent from both X2 and X3, and that X2 and X3 may be correlated\n",
    "    \"\"\"\n",
    "\n",
    "    Var_inputs = np.diagonal(cov).copy()\n",
    "    Sd_inputs = np.sqrt(Var_inputs)\n",
    "\n",
    "    Var_model = (coeff_model**2*Var_inputs).sum() + 2*corr*coeff_model[1]*coeff_model[2]*Sd_inputs[1]*Sd_inputs[2]\n",
    "    \n",
    "    Sh = np.zeros(3)\n",
    "\n",
    "    Sh[0] = (coeff_model[0]**2*Var_inputs[0])/Var_model\n",
    "\n",
    "    Effect_2 = coeff_model[1]**2*Var_inputs[1]\n",
    "    Effect_3 = coeff_model[2]**2*Var_inputs[2]\n",
    "    Effect_23 = corr*coeff_model[1]*coeff_model[2]*Sd_inputs[1]*Sd_inputs[2]\n",
    "\n",
    "    Sh[1] = (Effect_2 + Effect_23 + corr**2*(Effect_3 - Effect_2)/2)/Var_model\n",
    "    Sh[2] = (Effect_3 + Effect_23 + corr**2*(Effect_2 - Effect_3)/2)/Var_model\n",
    "    \n",
    "    return Sh"
   ]
  },
  {
   "cell_type": "markdown",
   "metadata": {},
   "source": [
    "## Shapley function"
   ]
  },
  {
   "cell_type": "markdown",
   "metadata": {},
   "source": [
    "#### Conceive the design matrix and calculate the output"
   ]
  },
  {
   "cell_type": "code",
   "execution_count": 5,
   "metadata": {
    "collapsed": true,
    "jupyter": {
     "outputs_hidden": true
    }
   },
   "outputs": [],
   "source": [
    "def compute_output(method, m, model, Xall, Xcond, d, Nv, No, Ni = 3):\n",
    "    \n",
    "    \"\"\"Function to design the design matrix and calculate  the output\"\"\"\n",
    "    \n",
    "    if (method == 'exact'):\n",
    "        perms_tool = ot.KPermutations(d, d)\n",
    "        perms = perms_tool.generate()\n",
    "\n",
    "        m = perms.getSize() # number of permutation\n",
    "    else:\n",
    "        perms = np.zeros((m,d), dtype = np.int64)\n",
    "        for i in range(m):\n",
    "            perms[i] = np.random.permutation(d) # random permutation\n",
    "    \n",
    "    #------------------------------\n",
    "    # Creation of the design matrix\n",
    "    #------------------------------\n",
    "    \n",
    "    X = np.zeros((Nv+m*(d-1)*No*Ni, d)) \n",
    "    X[:Nv,:] = Xall(Nv)\n",
    "\n",
    "    for p in range(m):\n",
    "    \n",
    "        pi = perms[p]\n",
    "        pi_sorted = np.argsort(pi)\n",
    "    \n",
    "        for j in range(1,d):\n",
    "        \n",
    "            Sj = pi[:j] # set of the 0st-(j-1)th elements in pi      \n",
    "            Sjc = pi[j:] # set of the jth-dth elements in pi\n",
    "        \n",
    "            xjcM = Xcond(No,Sjc,None,None)# sampled values of the inputs in Sjc\n",
    "\n",
    "            for l in range(No):\n",
    "                \n",
    "                xjc = xjcM[l,:]\n",
    "            \n",
    "                # sample values of inputs in Sj conditional on xjc\n",
    "                xj = Xcond(Ni, Sj, Sjc, xjc)\n",
    "                xx = np.concatenate((xj, np.ones((Ni,1))*xjc), axis = 1)\n",
    "                ind_inner = Nv + p*(d-1)*No*Ni + (j-1)*No*Ni + l*Ni\n",
    "                X[ind_inner:(ind_inner + Ni),:] = xx[:,pi_sorted]\n",
    "    \n",
    "    #-----------------------\n",
    "    # Calcul of the response\n",
    "    #-----------------------\n",
    "    \n",
    "    y = model(X)\n",
    "    \n",
    "    return perms,y\n"
   ]
  },
  {
   "cell_type": "markdown",
   "metadata": {},
   "source": [
    "#### Caculate the Shapley effetcs and make bootstrap"
   ]
  },
  {
   "cell_type": "code",
   "execution_count": 11,
   "metadata": {
    "collapsed": true,
    "jupyter": {
     "outputs_hidden": true
    }
   },
   "outputs": [],
   "source": [
    "def ShapleyPerm(method,bootstrap, perms, y, d, Nv, No, Ni = 3):\n",
    "    \n",
    "    \"\"\" Function to calculate the Shapley effects and confidence interval of the values \"\"\"\n",
    "    \n",
    "    if (method == 'exact'):\n",
    "        m = perms.getSize()\n",
    "    else:\n",
    "        m = np.int(perms.shape[0])\n",
    "    \n",
    "    #-----------------------------------------------------------------\n",
    "    # Initialize Shapley, main and total Sobol effects for all players\n",
    "    #-----------------------------------------------------------------\n",
    "    \n",
    "    Sh = np.zeros((bootstrap,d))\n",
    "    Vsob = np.zeros((bootstrap,d))\n",
    "    Tsob = np.zeros((bootstrap,d))\n",
    "    \n",
    "    nV = np.zeros((bootstrap,d)) # number of samples used to estimate V1,...,Vd\n",
    "    nT = np.zeros((bootstrap,d)) # number of samples used to estimate T1,...,Td\n",
    "    \n",
    "    #---------------------\n",
    "    # Sample for bootstrap\n",
    "    #---------------------\n",
    "    \n",
    "    Y_for_boot = y[:Nv]\n",
    "    y_for_boot = y[Nv:]\n",
    "    \n",
    "    #-----------------------------------------------\n",
    "    # Estimate Shapley, main and total Sobol effects\n",
    "    #-----------------------------------------------\n",
    "    \n",
    "    cVar = np.zeros(No)\n",
    "\n",
    "    for b in range(bootstrap):\n",
    "        \n",
    "        if (b == 0):\n",
    "            Y = Y_for_boot.copy()\n",
    "            VarY = np.var(Y, ddof = 1)\n",
    "\n",
    "            y = y_for_boot.copy()\n",
    "        else:\n",
    "            Y = Y_for_boot[np.random.randint(low = 0, high = Nv, size = Nv)]\n",
    "            VarY = np.var(Y, ddof = 1)\n",
    "            \n",
    "            discrete_index_array = np.arange(0, m*(d-1)*No*Ni).reshape(m*(d-1)*No,Ni)\n",
    "            random_boot_1 = np.random.randint(low = 0, high = No, size=(m*(d-1),No))\n",
    "            discrete_No =  np.repeat(np.arange(0,m*(d-1)*No,No)[:,np.newaxis], No, 1)\n",
    "            boot_1_index_to_select = (random_boot_1 + discrete_No).ravel()\n",
    "            boot_1 = discrete_index_array[boot_1_index_to_select].ravel()\n",
    "            y = y_for_boot[boot_1]\n",
    "            \n",
    "            random_boot_2 = np.random.randint(low = 0, high = Ni, size=(m*(d-1)*No,Ni))\n",
    "            discrete_Ni = np.repeat(np.arange(0,m*(d-1)*No*Ni,Ni)[:,np.newaxis], Ni, 1)\n",
    "            boot_2 = (random_boot_2 + discrete_Ni).ravel()\n",
    "            y = y[boot_2]\n",
    "             \n",
    "        for p in range(m):\n",
    "    \n",
    "            pi = perms[p]\n",
    "            prevC = 0\n",
    "    \n",
    "            for j in range(d):\n",
    "                if (j == (d-1)):\n",
    "                    Chat = VarY\n",
    "                    delta = Chat - prevC\n",
    "                    Vsob[b,pi[j]] = Vsob[b,pi[j]] + prevC # first order effect\n",
    "                    nV[b,pi[j]] = nV[b,pi[j]] + 1\n",
    "                else:\n",
    "                    for l in range(No):\n",
    "                        Y = y[:Ni]\n",
    "                        y = y[Ni:]\n",
    "                        cVar[l] = np.var(Y, ddof = 1)\n",
    "                    Chat = np.mean(cVar)\n",
    "                    delta = Chat - prevC\n",
    "      \n",
    "                Sh[b,pi[j]] = Sh[b,pi[j]] + delta\n",
    "        \n",
    "                prevC = Chat\n",
    "        \n",
    "                if (j == 0):\n",
    "                    Tsob[b,pi[j]] = Tsob[b,pi[j]] + Chat # Total effect\n",
    "                    nT[b,pi[j]] = nT[b,pi[j]] + 1\n",
    "        \n",
    "        Sh[b,:] = Sh[b,:] / m / VarY\n",
    "              \n",
    "        if (method == 'exact'):\n",
    "            Vsob[b,:] = Vsob[b,:] / (m/d) / VarY # averaging by number of permutations with j=d-1\n",
    "            Vsob[b,:] = 1 - Vsob[b,:] \n",
    "            Tsob[b,:] = Tsob[b,:] / (m/d) / VarY # averaging by number of permutations with j=1 \n",
    "        else:\n",
    "            Vsob[b,:] = Vsob[b,:] / nV[b,:] / VarY # averaging by number of permutations with j=d-1\n",
    "            Vsob[b,:] = 1 - Vsob[b,:] \n",
    "            Tsob[b,:] = Tsob[b,:] / nT[b,:] / VarY # averaging by number of permutations with j=1 \n",
    "    \n",
    "    print('nV = '+str(nV)+'\\n')\n",
    "    print('nT  = '+str(nT)+'\\n')    \n",
    "        \n",
    "    rownames = ['X' + str(i) for i in np.arange(d)+1]\n",
    "    percentiles = [0.025,0.975]\n",
    "    \n",
    "    # Shapley effects\n",
    "    colnames = ['Sh','IC_min','IC_max']\n",
    "\n",
    "    Sh = pd.DataFrame(Sh)\n",
    "    Sh_describe = Sh.iloc[1:,:].describe(percentiles = [0.025,0.975])\n",
    "    \n",
    "    Sh_ref = (Sh.iloc[0].values)[:,np.newaxis]\n",
    "    CI_min = 2*Sh_ref - (Sh_describe.iloc[6].values)[:,np.newaxis]\n",
    "    CI_max = 2*Sh_ref - (Sh_describe.iloc[4].values)[:,np.newaxis]\n",
    "\n",
    "    Sh_out = np.concatenate((Sh_ref,CI_min,CI_max), axis = 1)\n",
    "    Sh_out = pd.DataFrame(Sh_out,index = rownames, columns = colnames)\n",
    "    \n",
    "    # First order Sobol\n",
    "    colnames = ['First Sobol','IC_min','IC_max']\n",
    "    \n",
    "    Vsob = pd.DataFrame(Vsob)\n",
    "    Vsob_describe = Vsob.iloc[1:,:].describe(percentiles = [0.025,0.975])\n",
    "    \n",
    "    Vsob_ref = (Vsob.iloc[0].values)[:,np.newaxis]\n",
    "    CI_min = 2*Vsob_ref - (Vsob_describe.iloc[6].values)[:,np.newaxis]\n",
    "    CI_max = 2*Vsob_ref - (Vsob_describe.iloc[4].values)[:,np.newaxis]\n",
    "    \n",
    "    Vsob_out = np.concatenate((Vsob_ref,CI_min,CI_max), axis  = 1)\n",
    "    Vsob_out = pd.DataFrame(Vsob_out, index = rownames, columns = colnames)\n",
    "    \n",
    "    # Total order Sobol\n",
    "    colnames = ['Total Sobol','IC_min','IC_max']\n",
    "    \n",
    "    Tsob = pd.DataFrame(Tsob)\n",
    "    Tsob_describe = Tsob.iloc[1:,:].describe(percentiles = [0.025,0.975])\n",
    "    \n",
    "    Tsob_ref = (Tsob.iloc[0].values)[:,np.newaxis]\n",
    "    CI_min = 2*Tsob_ref - (Tsob_describe.iloc[6].values)[:,np.newaxis]\n",
    "    CI_max = 2*Tsob_ref - (Tsob_describe.iloc[4].values)[:,np.newaxis]\n",
    "\n",
    "    Tsob_out = np.concatenate((Tsob_ref,CI_min,CI_max), axis = 1)\n",
    "    Tsob_out = pd.DataFrame(Tsob_out, index = rownames, columns = colnames)\n",
    "\n",
    "    return Sh_out, Vsob_out, Tsob_out"
   ]
  },
  {
   "cell_type": "markdown",
   "metadata": {},
   "source": [
    "## Bootsrap test"
   ]
  },
  {
   "cell_type": "markdown",
   "metadata": {},
   "source": [
    "#### Parameters of the model"
   ]
  },
  {
   "cell_type": "code",
   "execution_count": 7,
   "metadata": {
    "collapsed": true,
    "jupyter": {
     "outputs_hidden": true
    }
   },
   "outputs": [],
   "source": [
    "d = 3\n",
    "coeff_model = np.array([1,1,1])\n",
    "\n",
    "moyenne = np.zeros(3)\n",
    "corr = 0.9\n",
    "cov = np.array([[1.0, 0, 0], [0, 1.0, 1.8], [0, 1.8, 4.0]])\n",
    "cov = ot.CovarianceMatrix(cov)\n",
    "\n",
    "def gaussian_model(X):\n",
    "    return np.sum(X,1)"
   ]
  },
  {
   "cell_type": "markdown",
   "metadata": {},
   "source": [
    "#### Function to estimate Shapley effects"
   ]
  },
  {
   "cell_type": "code",
   "execution_count": 8,
   "metadata": {
    "collapsed": true,
    "jupyter": {
     "outputs_hidden": true
    }
   },
   "outputs": [],
   "source": [
    "def Xall(n):\n",
    "    distribution = ot.Normal(moyenne,cov)\n",
    "    return distribution.getSample(n)\n",
    "\n",
    "def Xcond(n, Sj, Sjc, xjc):\n",
    "    if Sjc is None:\n",
    "        cov_int = np.array(cov)\n",
    "        cov_int = cov_int.take(Sj, axis = 1)\n",
    "        cov_int = cov_int[Sj]        \n",
    "        cov_int = ot.CovarianceMatrix(cov_int)\n",
    "        distribution = ot.Normal(moyenne[Sj],cov_int)\n",
    "        return distribution.getSample(n)\n",
    "    else:\n",
    "        return r_condMVN(n,mean = moyenne, cov = cov, dependent_ind = Sj, given_ind = Sjc, X_given = xjc)"
   ]
  },
  {
   "cell_type": "markdown",
   "metadata": {},
   "source": [
    "#### Estimate Shapley effects with Exact method of permutations"
   ]
  },
  {
   "cell_type": "code",
   "execution_count": 9,
   "metadata": {
    "collapsed": true,
    "jupyter": {
     "outputs_hidden": true
    }
   },
   "outputs": [],
   "source": [
    "method = 'exact'\n",
    "m = None\n",
    "Nv = 10**4\n",
    "No = 10**3\n",
    "Ni = 10**2\n",
    "\n",
    "perms, y = compute_output(method, m, gaussian_model, Xall, Xcond, d, Nv, No, Ni)\n",
    "\n",
    "bootstrap = 10**3\n",
    "Sh, Vsob, Tsob = ShapleyPerm(method, bootstrap, perms, y, d, Nv, No, Ni)\n",
    "\n",
    "writer = pd.ExcelWriter('bootstrap_exact.xlsx', engine='xlsxwriter')\n",
    "Sh.to_excel(writer, sheet_name = 'Sh_exact')\n",
    "Vsob.to_excel(writer, sheet_name = 'Vsob_exact')\n",
    "Tsob.to_excel(writer, sheet_name = 'Tsob_exact')\n",
    "writer.save()"
   ]
  },
  {
   "cell_type": "markdown",
   "metadata": {},
   "source": [
    "#### Estimate Shapley effects with random permutations"
   ]
  },
  {
   "cell_type": "code",
   "execution_count": 12,
   "metadata": {},
   "outputs": [
    {
     "name": "stdout",
     "output_type": "stream",
     "text": [
      "nV = [[ 1973.  2012.  2015.]\n",
      " [ 1973.  2012.  2015.]\n",
      " [ 1973.  2012.  2015.]\n",
      " [ 1973.  2012.  2015.]\n",
      " [ 1973.  2012.  2015.]]\n",
      "\n",
      "nT  = [[ 2006.  1941.  2053.]\n",
      " [ 2006.  1941.  2053.]\n",
      " [ 2006.  1941.  2053.]\n",
      " [ 2006.  1941.  2053.]\n",
      " [ 2006.  1941.  2053.]]\n",
      "\n"
     ]
    }
   ],
   "source": [
    "method = 'random'\n",
    "m = 6000\n",
    "Nv = 10**4\n",
    "No = 1\n",
    "Ni = 3\n",
    "\n",
    "perms, y = compute_output(method, m, gaussian_model, Xall, Xcond, d, Nv, No, Ni)\n",
    "\n",
    "bootstrap = 5\n",
    "Sh, Vsob, Tsob = ShapleyPerm(method, bootstrap, perms, y, d, Nv, No, Ni)\n",
    "\n",
    "# writer = pd.ExcelWriter('bootstrap_random.xlsx', engine='xlsxwriter')\n",
    "# Sh.to_excel(writer,sheet_name='Sh_random_1')\n",
    "# Vsob.to_excel(writer,sheet_name='Vsob_random_1')\n",
    "# Tsob.to_excel(writer,sheet_name='Tsob_random_1')"
   ]
  },
  {
   "cell_type": "code",
   "execution_count": 11,
   "metadata": {
    "collapsed": true,
    "jupyter": {
     "outputs_hidden": true
    }
   },
   "outputs": [],
   "source": [
    "method = 'random'\n",
    "m = 6000\n",
    "Nv = 10**4\n",
    "No = 10**2\n",
    "Ni = 10**2\n",
    "\n",
    "perms, y = compute_output(method, m, gaussian_model, Xall, Xcond, d, Nv, No, Ni)\n",
    "\n",
    "bootstrap = 10**3\n",
    "Sh, Vsob, Tsob = ShapleyPerm(method, bootstrap, perms, y, d, Nv, No, Ni)\n",
    "\n",
    "Sh.to_excel(writer,sheet_name='Sh_random_2')\n",
    "Vsob.to_excel(writer,sheet_name='Vsob_random_2')\n",
    "Tsob.to_excel(writer,sheet_name='Tsob_random_2')\n",
    "writer.save()"
   ]
  }
 ],
 "metadata": {
  "kernelspec": {
   "display_name": "Python 3",
   "language": "python",
   "name": "python3"
  },
  "language_info": {
   "codemirror_mode": {
    "name": "ipython",
    "version": 3
   },
   "file_extension": ".py",
   "mimetype": "text/x-python",
   "name": "python",
   "nbconvert_exporter": "python",
   "pygments_lexer": "ipython3",
   "version": "3.7.7"
  }
 },
 "nbformat": 4,
 "nbformat_minor": 4
}
