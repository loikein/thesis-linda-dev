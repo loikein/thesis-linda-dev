{
 "cells": [
  {
   "cell_type": "markdown",
   "metadata": {},
   "source": [
    "# Purpose of notebook\n",
    "This notebook examplifies the replication of the shapleyPermEx and shapleyPermRand functions from the R package 'sensitivity'. I implement the functions to see if we get the same results as the R package in order to consequently apply the methods to the respy model."
   ]
  },
  {
   "cell_type": "code",
   "execution_count": 1,
   "metadata": {},
   "outputs": [],
   "source": [
    "import itertools\n",
    "\n",
    "import numpy as np\n",
    "import pandas as pd\n",
    "import chaospy as cp\n",
    "import openturns as ot\n",
    "\n",
    "from econsa.sampling import cond_mvn"
   ]
  },
  {
   "cell_type": "markdown",
   "metadata": {},
   "source": [
    "## Shapley function"
   ]
  },
  {
   "cell_type": "markdown",
   "metadata": {},
   "source": [
    "Code of original R package:\n",
    "\n",
    "- [sensitivity source: R/shapleyPermEx.R](https://rdrr.io/cran/sensitivity/src/R/shapleyPermEx.R)\n",
    "- [sensitivity source: R/shapleyPermRand.R](https://rdrr.io/cran/sensitivity/src/R/shapleyPermRand.R)"
   ]
  },
  {
   "cell_type": "code",
   "execution_count": 120,
   "metadata": {},
   "outputs": [],
   "source": [
    "# define shapley function as in the R package\n",
    "def ShapleyPerm(method, m, model, moyenne, cov, d, Nv, No, Ni=3):\n",
    "    \"\"\"\n",
    "    \"\"\"\n",
    "    if (method == 'exact'):\n",
    "        perms = list(itertools.permutations(range(d), d))\n",
    "        perms = [list(i) for i in perms]\n",
    "        m = len(perms)\n",
    "    else:\n",
    "        perms = np.zeros((m,d), dtype = np.int64)\n",
    "        for i in range(m):\n",
    "            perms[i] = np.random.permutation(d)\n",
    "\n",
    "    #------------------------------\n",
    "    # Creation of the design matrix\n",
    "    #------------------------------\n",
    "\n",
    "    X = np.zeros((Nv + m * (d - 1) * No * Ni, d)) \n",
    "    X[:Nv, :] = Xall(moyenne, cov, Nv).T\n",
    "\n",
    "    for p in range(m):\n",
    "    \n",
    "        pi = perms[p]\n",
    "        pi_sorted = np.argsort(pi)\n",
    "    \n",
    "        for j in range(1,d):\n",
    "            # set of the 0st-(j-1)th elements in pi\n",
    "            Sj = pi[:j]\n",
    "            # set of the jth-dth elements in pi\n",
    "            Sjc = pi[j:]\n",
    "        \n",
    "            # sampled values of the inputs in Sjc\n",
    "            xjcM = np.matrix(Xcond(moyenne, cov, No, Sjc, None, None)).T\n",
    "#             print(xjcM.shape)\n",
    "            \n",
    "            for l in range(No):\n",
    "#                 print(\"m =\", m)\n",
    "#                 print(\"l =\", l)\n",
    "                xjc = xjcM[l, :]\n",
    "            \n",
    "#                 print(\"Sjc =\", Sjc)\n",
    "#                 print(\"xjc =\", xjc)\n",
    "                # sample values of inputs in Sj conditional on xjc\n",
    "                xj = np.matrix(Xcond(moyenne, cov, Ni, Sj, Sjc, xjc.flat)).T\n",
    "                xx = np.concatenate((xj, np.ones((Ni, 1)) * xjc), axis = 1).T\n",
    "                ind_inner = Nv + p * (d - 1) * No * Ni + (j - 1) * No * Ni + l * Ni\n",
    "                X[ind_inner:(ind_inner + Ni), :] = xx[:, pi_sorted]\n",
    "    \n",
    "    #-----------------------\n",
    "    # Calcul of the response\n",
    "    #-----------------------\n",
    "    \n",
    "    y = model(X)\n",
    "\n",
    "    #-----------------------------------------------------------------\n",
    "    # Initialize Shapley, main and total Sobol effects for all players\n",
    "    #-----------------------------------------------------------------\n",
    "    \n",
    "    Sh = np.zeros(d)\n",
    "    Vsob = np.zeros(d)\n",
    "    Tsob = np.zeros(d)\n",
    "    \n",
    "    nV = np.zeros(d) # number of samples used to estimate V1,...,Vd\n",
    "    nT = np.zeros(d) # number of samples used to estimate T1,...,Td\n",
    "    \n",
    "    #----------------\n",
    "    # Estimate Var[Y]\n",
    "    #----------------\n",
    "    \n",
    "    Y = y[:Nv]\n",
    "    y = y[Nv:]\n",
    "    EY = np.mean(Y)\n",
    "    VarY = np.var(Y)\n",
    "\n",
    "    #-----------------------------------------------\n",
    "    # Estimate Shapley, main and total Sobol effects\n",
    "    #-----------------------------------------------\n",
    "    \n",
    "    cVar = np.zeros(No)\n",
    "\n",
    "    for p in range(m):\n",
    "    \n",
    "        pi = perms[p]\n",
    "        prevC = 0\n",
    "    \n",
    "        for j in range(d):\n",
    "            if (j == (d - 1)):\n",
    "                Chat = VarY\n",
    "                delta = Chat - prevC\n",
    "                Vsob[pi[j]] = Vsob[pi[j]] + prevC # first order effect\n",
    "                nV[pi[j]] = nV[pi[j]] + 1\n",
    "            else:\n",
    "                for l in range(No):\n",
    "                    Y = y[:Ni]\n",
    "                    y = y[Ni:]\n",
    "                    cVar[l] = np.var(Y)\n",
    "                Chat = np.mean(cVar)\n",
    "                delta = Chat - prevC\n",
    "      \n",
    "            Sh[pi[j]] = Sh[pi[j]] + delta\n",
    "        \n",
    "            prevC = Chat\n",
    "        \n",
    "            if (j == 0):\n",
    "                Tsob[pi[j]] = Tsob[pi[j]] + Chat # Total effect\n",
    "                nT[pi[j]] = nT[pi[j]] + 1\n",
    "    \n",
    "    Sh = Sh / m / VarY\n",
    "    \n",
    "    if (method == 'exact'):\n",
    "        Vsob = Vsob / (m/d) / VarY # averaging by number of permutations with j=d-1\n",
    "        Vsob = 1 - Vsob \n",
    "        Tsob = Tsob / (m/d) / VarY # averaging by number of permutations with j=1 \n",
    "    else:\n",
    "        Vsob = Vsob / nV / VarY # averaging by number of permutations with j=d-1\n",
    "        Vsob = 1 - Vsob \n",
    "        Tsob = Tsob / nT / VarY # averaging by number of permutations with j=1 \n",
    "    \n",
    "    col = ['X' + str(i) for i in np.arange(d) + 1]\n",
    "    effects = pd.DataFrame(\n",
    "        np.array([Sh, Vsob, Tsob]),\n",
    "        index = ['Shapley effects', 'First order Sobol', 'Total Sobol'],\n",
    "        columns = col,\n",
    "    )\n",
    "\n",
    "    return effects"
   ]
  },
  {
   "cell_type": "code",
   "execution_count": 10,
   "metadata": {},
   "outputs": [],
   "source": [
    "def gaussian_model(X):\n",
    "    return np.sum(X,1)"
   ]
  },
  {
   "cell_type": "code",
   "execution_count": 110,
   "metadata": {},
   "outputs": [],
   "source": [
    "def Xall(moyenne, cov, n):\n",
    "    distribution = cp.MvNormal(moyenne, cov)\n",
    "    return distribution.sample(n)"
   ]
  },
  {
   "cell_type": "code",
   "execution_count": 117,
   "metadata": {},
   "outputs": [],
   "source": [
    "def Xcond(moyenne, cov, n, Sj, Sjc, xjc):\n",
    "    if Sjc is None:\n",
    "        cov_int = np.array(cov)\n",
    "        cov_int = cov_int.take(Sj, axis = 1)\n",
    "        cov_int = cov_int[Sj]\n",
    "        distribution = cp.MvNormal(moyenne[Sj], cov_int)\n",
    "        return distribution.sample(n)\n",
    "    else:\n",
    "        return r_condMVN(n,mean = moyenne, cov = cov, dependent_ind = Sj, given_ind = Sjc, X_given = xjc)"
   ]
  },
  {
   "cell_type": "markdown",
   "metadata": {},
   "source": [
    "# Conditional sampling functions\n",
    "These funcitons estimate the conditional vector for use in the shapley function"
   ]
  },
  {
   "cell_type": "code",
   "execution_count": 118,
   "metadata": {},
   "outputs": [],
   "source": [
    "# Generate conditional law\n",
    "def r_condMVN(n, mean, cov, dependent_ind, given_ind, X_given):\n",
    "    \"\"\" Function to simulate conditional gaussian distribution of X[dependent.ind] | X[given.ind] = X.given\n",
    "    where X is multivariateNormal(mean = mean, covariance = cov)\"\"\"\n",
    "    cond_mean,cond_var = cond_mvn(\n",
    "        mean, cov, dependent_ind = dependent_ind, given_ind = given_ind, given_value = X_given,\n",
    "    )\n",
    "    distribution = cp.MvNormal(cond_mean, cond_var)\n",
    "    \n",
    "    return distribution.sample(n)"
   ]
  },
  {
   "cell_type": "markdown",
   "metadata": {},
   "source": [
    "## Evaluation Shapley effects on linear test model model"
   ]
  },
  {
   "cell_type": "code",
   "execution_count": 121,
   "metadata": {},
   "outputs": [
    {
     "name": "stdout",
     "output_type": "stream",
     "text": [
      "Exact method \n",
      "                         X1        X2        X3\n",
      "Shapley effects    0.371839  0.338162  0.289999\n",
      "First order Sobol  0.563545  0.355004  0.315657\n",
      "Total Sobol        0.721465  0.837247  0.787473\n",
      "\n",
      "\n"
     ]
    }
   ],
   "source": [
    "# Ni = 3\n",
    "\n",
    "d = 3\n",
    "moyenne = np.zeros(3)\n",
    "cov = np.array([[1.0, 0, 0], [0, 1.0, 1.8], [0, 1.8, 4.0]])\n",
    "\n",
    "# Exact method\n",
    "method = 'exact'\n",
    "m = None\n",
    "Nv = 10 ** 4\n",
    "No = 10 ** 3\n",
    "Ni = 3\n",
    "\n",
    "np.random.seed(1)\n",
    "ot.RandomGenerator.SetSeed(0)\n",
    "index = ShapleyPerm(method, m, gaussian_model, moyenne, cov, d, Nv, No, Ni)\n",
    "print('Exact method \\n' + str(index) + '\\n\\n')"
   ]
  },
  {
   "cell_type": "code",
   "execution_count": 97,
   "metadata": {
    "scrolled": true
   },
   "outputs": [
    {
     "name": "stdout",
     "output_type": "stream",
     "text": [
      "Random method \n",
      "                         X1        X2        X3\n",
      "Shapley effects    0.363450  0.363483  0.273066\n",
      "First order Sobol  0.579954  0.414898  0.266531\n",
      "Total Sobol        0.697817  0.850366  0.781962\n",
      "\n"
     ]
    }
   ],
   "source": [
    "# Random method\n",
    "method = 'random'\n",
    "m = 6000\n",
    "Nv = 10 ** 4\n",
    "No = 1\n",
    "Ni = 3\n",
    "\n",
    "ot.RandomGenerator.SetSeed(0)\n",
    "index = ShapleyPerm(method, m, gaussian_model, moyenne, cov, d, Nv, No, Ni)\n",
    "print('Random method \\n' + str(index) + '\\n')"
   ]
  },
  {
   "cell_type": "code",
   "execution_count": 39,
   "metadata": {},
   "outputs": [
    {
     "name": "stdout",
     "output_type": "stream",
     "text": [
      "Exact method \n",
      "                         X1        X2        X3\n",
      "Shapley effects    0.107076  0.416297  0.476628\n",
      "First order Sobol  0.113784  0.817406  0.877446\n",
      "Total Sobol        0.104018  0.019542  0.078596\n",
      "\n",
      "\n"
     ]
    }
   ],
   "source": [
    "# Ni = 100\n",
    "\n",
    "d = 3\n",
    "moyenne = np.zeros(3)\n",
    "cov = np.array([[1.0, 0, 0], [0, 1.0, 1.8], [0, 1.8, 4.0]])\n",
    "cov = ot.CovarianceMatrix(cov)\n",
    "\n",
    "# Exact method\n",
    "method = 'exact'\n",
    "m = None\n",
    "Nv = 10 ** 4\n",
    "No = 10 ** 3\n",
    "Ni = 100\n",
    "\n",
    "ot.RandomGenerator.SetSeed(0)\n",
    "index = ShapleyPerm(method,m,gaussian_model, moyenne, cov, d, Nv, No, Ni)\n",
    "print('Exact method \\n' + str(index) + '\\n\\n')"
   ]
  },
  {
   "cell_type": "code",
   "execution_count": 41,
   "metadata": {},
   "outputs": [
    {
     "name": "stdout",
     "output_type": "stream",
     "text": [
      "Random method \n",
      "                         X1        X2        X3\n",
      "Shapley effects    0.105530  0.413029  0.481441\n",
      "First order Sobol  0.110748  0.818254  0.877002\n",
      "Total Sobol        0.103103  0.019625  0.078566\n",
      "\n"
     ]
    }
   ],
   "source": [
    "# Random method\n",
    "method = 'random'\n",
    "m = 6000\n",
    "Nv = 10 ** 4\n",
    "No = 1\n",
    "Ni = 100\n",
    "\n",
    "ot.RandomGenerator.SetSeed(0)\n",
    "index = ShapleyPerm(method,m,gaussian_model, moyenne, cov, d, Nv, No, Ni)\n",
    "print('Random method \\n' + str(index) + '\\n')"
   ]
  },
  {
   "cell_type": "code",
   "execution_count": null,
   "metadata": {},
   "outputs": [],
   "source": []
  }
 ],
 "metadata": {
  "kernelspec": {
   "display_name": "Python 3",
   "language": "python",
   "name": "python3"
  },
  "language_info": {
   "codemirror_mode": {
    "name": "ipython",
    "version": 3
   },
   "file_extension": ".py",
   "mimetype": "text/x-python",
   "name": "python",
   "nbconvert_exporter": "python",
   "pygments_lexer": "ipython3",
   "version": "3.7.8"
  }
 },
 "nbformat": 4,
 "nbformat_minor": 4
}
