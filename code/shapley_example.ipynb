{
 "cells": [
  {
   "cell_type": "markdown",
   "metadata": {},
   "source": [
    "# Proper code"
   ]
  },
  {
   "cell_type": "markdown",
   "metadata": {},
   "source": [
    "## Shapley function"
   ]
  },
  {
   "cell_type": "code",
   "execution_count": 10,
   "metadata": {},
   "outputs": [],
   "source": [
    "import numpy as np\n",
    "import openturns as ot\n",
    "import pandas as pd\n",
    "\n",
    "def ShapleyPerm(method, m, model, Xall, Xcond, d, Nv, No, Ni=3):\n",
    "    \"\"\"\n",
    "    \"\"\"\n",
    "    if (method == 'exact'):\n",
    "        perms_tool = ot.KPermutations(d, d)\n",
    "        perms = perms_tool.generate()\n",
    "\n",
    "        m = perms.getSize() # number of permutation\n",
    "    else:\n",
    "        perms = np.zeros((m,d), dtype = np.int64)\n",
    "        for i in range(m):\n",
    "            perms[i] = np.random.permutation(d) # random permutation\n",
    "    \n",
    "    #------------------------------\n",
    "    # Creation of the design matrix\n",
    "    #------------------------------\n",
    "    \n",
    "    X = np.zeros((Nv+m*(d-1)*No*Ni, d)) \n",
    "    X[:Nv,:] = Xall(Nv)\n",
    "\n",
    "    for p in range(m):\n",
    "    \n",
    "        pi = perms[p]\n",
    "        pi_sorted = np.argsort(pi)\n",
    "    \n",
    "        for j in range(1,d):\n",
    "        \n",
    "            Sj = pi[:j] # set of the 0st-(j-1)th elements in pi      \n",
    "            Sjc = pi[j:] # set of the jth-dth elements in pi\n",
    "        \n",
    "            xjcM = Xcond(No,Sjc,None,None)# sampled values of the inputs in Sjc\n",
    "\n",
    "            for l in range(No):\n",
    "                \n",
    "                xjc = xjcM[l,:]\n",
    "            \n",
    "                # sample values of inputs in Sj conditional on xjc\n",
    "                xj = Xcond(Ni, Sj, Sjc, xjc)\n",
    "                xx = np.concatenate((xj, np.ones((Ni,1))*xjc), axis = 1)\n",
    "                ind_inner = Nv + p*(d-1)*No*Ni + (j-1)*No*Ni + l*Ni\n",
    "                X[ind_inner:(ind_inner + Ni),:] = xx[:,pi_sorted]\n",
    "    \n",
    "    #-----------------------\n",
    "    # Calcul of the response\n",
    "    #-----------------------\n",
    "    \n",
    "    y = model(X)\n",
    "\n",
    "    #-----------------------------------------------------------------\n",
    "    # Initialize Shapley, main and total Sobol effects for all players\n",
    "    #-----------------------------------------------------------------\n",
    "    \n",
    "    Sh = np.zeros(d)\n",
    "    Vsob = np.zeros(d)\n",
    "    Tsob = np.zeros(d)\n",
    "    \n",
    "    nV = np.zeros(d) # number of samples used to estimate V1,...,Vd\n",
    "    nT = np.zeros(d) # number of samples used to estimate T1,...,Td\n",
    "    \n",
    "    #----------------\n",
    "    # Estimate Var[Y]\n",
    "    #----------------\n",
    "    \n",
    "    Y = y[:Nv]\n",
    "    y = y[Nv:]\n",
    "    EY = np.mean(Y)\n",
    "    VarY = np.var(Y)\n",
    "\n",
    "    #-----------------------------------------------\n",
    "    # Estimate Shapley, main and total Sobol effects\n",
    "    #-----------------------------------------------\n",
    "    \n",
    "    cVar = np.zeros(No)\n",
    "\n",
    "    for p in range(m):\n",
    "    \n",
    "        pi = perms[p]\n",
    "        prevC = 0\n",
    "    \n",
    "        for j in range(d):\n",
    "            if (j == (d-1)):\n",
    "                Chat = VarY\n",
    "                delta = Chat - prevC\n",
    "                Vsob[pi[j]] = Vsob[pi[j]] + prevC # first order effect\n",
    "                nV[pi[j]] = nV[pi[j]] + 1\n",
    "            else:\n",
    "                for l in range(No):\n",
    "                    Y = y[:Ni]\n",
    "                    y = y[Ni:]\n",
    "                    cVar[l] = np.var(Y)\n",
    "                Chat = np.mean(cVar)\n",
    "                delta = Chat - prevC\n",
    "      \n",
    "            Sh[pi[j]] = Sh[pi[j]] + delta\n",
    "        \n",
    "            prevC = Chat\n",
    "        \n",
    "            if (j == 0):\n",
    "                Tsob[pi[j]] = Tsob[pi[j]] + Chat # Total effect\n",
    "                nT[pi[j]] = nT[pi[j]] + 1\n",
    "    \n",
    "    Sh = Sh / m / VarY\n",
    "    \n",
    "    if (method == 'exact'):\n",
    "        Vsob = Vsob / (m/d) / VarY # averaging by number of permutations with j=d-1\n",
    "        Vsob = 1 - Vsob \n",
    "        Tsob = Tsob / (m/d) / VarY # averaging by number of permutations with j=1 \n",
    "    else:\n",
    "        Vsob = Vsob / nV / VarY # averaging by number of permutations with j=d-1\n",
    "        Vsob = 1 - Vsob \n",
    "        Tsob = Tsob / nT / VarY # averaging by number of permutations with j=1 \n",
    "    \n",
    "    col = ['X' + str(i) for i in np.arange(d)+1]\n",
    "    effects = pd.DataFrame(np.array([Sh,Vsob,Tsob]), index = ['Shapley effects', 'First order Sobol', 'Total Sobol'], columns = col)\n",
    "\n",
    "    return effects"
   ]
  },
  {
   "cell_type": "code",
   "execution_count": 12,
   "metadata": {},
   "outputs": [],
   "source": [
    "def condMVN(mean, cov, dependent_ind, given_ind, X_given):\n",
    "    \"\"\" Returns conditional mean and variance of X[dependent.ind] | X[given.ind] = X.given\n",
    "    where X is multivariateNormal(mean = mean, covariance = cov)\"\"\"\n",
    "    \n",
    "    cov = np.array(cov)\n",
    "    \n",
    "    B = cov.take(dependent_ind, axis = 1)\n",
    "    B = B[dependent_ind]\n",
    "    \n",
    "    C = cov.take(dependent_ind, axis = 1)\n",
    "    C = C[given_ind]\n",
    "    \n",
    "    D = cov.take(given_ind, axis = 1)\n",
    "    D = D[given_ind]\n",
    "    \n",
    "    CDinv = np.dot(np.transpose(C),np.linalg.inv(D))\n",
    "    \n",
    "    condMean = mean[dependent_ind] + np.dot(CDinv,(X_given - mean[given_ind]))\n",
    "    condVar = B - np.dot(CDinv,C)\n",
    "    condVar = ot.CovarianceMatrix(condVar)\n",
    "    \n",
    "    return condMean,condVar\n",
    "\n",
    "#condMVN(moyenne, cov, dependent_ind = np.array([1,0]), given_ind= np.array([2]), X_given= np.array([10]))"
   ]
  },
  {
   "cell_type": "code",
   "execution_count": 34,
   "metadata": {},
   "outputs": [
    {
     "data": {
      "text/plain": [
       "(array([4.5, 0. ]),\n",
       " class=CovarianceMatrix dimension=2 implementation=class=MatrixImplementation name=Unnamed rows=2 columns=2 values=[0.19,0,0,1])"
      ]
     },
     "execution_count": 34,
     "metadata": {},
     "output_type": "execute_result"
    }
   ],
   "source": [
    "#condMVN(moyenne, cov, dependent_ind = np.array([1,0]), given_ind= np.array([2]), X_given= np.array([10]))\n",
    "\n",
    "#dependent_ind = np.array([1,0])\n",
    "#dependent_ind\n",
    "\n",
    "#given_ind= np.array([2])\n",
    "#given_ind\n",
    "\n",
    "##X_given= np.array([10])\n",
    "#X_given\n",
    "\n",
    "Z=condMVN(moyenne, cov, dependent_ind = np.array([1,0]), given_ind= np.array([2]), X_given= np.array([10]))\n",
    "Z"
   ]
  },
  {
   "cell_type": "markdown",
   "metadata": {},
   "source": [
    "## Function for conditional gaussian vector"
   ]
  },
  {
   "cell_type": "markdown",
   "metadata": {},
   "source": [
    "### Calcul of conditional mean and variance"
   ]
  },
  {
   "cell_type": "code",
   "execution_count": 14,
   "metadata": {},
   "outputs": [],
   "source": [
    "def r_condMVN(n, mean, cov, dependent_ind, given_ind, X_given):\n",
    "    \"\"\" Function to simulate conditional gaussian distribution of X[dependent.ind] | X[given.ind] = X.given\n",
    "    where X is multivariateNormal(mean = mean, covariance = cov)\"\"\"\n",
    "    \n",
    "    cond_mean,cond_var = condMVN(mean, cov, dependent_ind, given_ind, X_given)\n",
    "    distribution = ot.Normal(cond_mean,cond_var)\n",
    "    return distribution.getSample(n)"
   ]
  },
  {
   "cell_type": "markdown",
   "metadata": {},
   "source": [
    "## Evaluation Shapley effects on linear gaussian model"
   ]
  },
  {
   "cell_type": "markdown",
   "metadata": {},
   "source": [
    "### Ni = 3"
   ]
  },
  {
   "cell_type": "code",
   "execution_count": 25,
   "metadata": {
    "scrolled": true
   },
   "outputs": [
    {
     "name": "stdout",
     "output_type": "stream",
     "text": [
      "Exact method \n",
      "                         X1        X2        X3\n",
      "Shapley effects    0.180492  0.388887  0.430621\n",
      "First order Sobol  0.407860  0.879894  0.919761\n",
      "Total Sobol        0.067213  0.013164  0.051871\n",
      "\n",
      "\n",
      "Random method \n",
      "                         X1        X2        X3\n",
      "Shapley effects    0.179297  0.385052  0.435651\n",
      "First order Sobol  0.398373  0.879094  0.916758\n",
      "Total Sobol        0.070965  0.013132  0.051876\n",
      "\n"
     ]
    }
   ],
   "source": [
    "def gaussian_model(X):\n",
    "    return np.sum(X,1)\n",
    "\n",
    "d = 3\n",
    "moyenne = np.zeros(3)\n",
    "cov = np.array([[1.0, 0, 0], [0, 1.0, 1.8], [0, 1.8, 4.0]])\n",
    "cov = ot.CovarianceMatrix(cov)\n",
    "\n",
    "def Xall(n):\n",
    "    distribution = ot.Normal(moyenne,cov)\n",
    "    return distribution.getSample(n)\n",
    "\n",
    "def Xcond(n, Sj, Sjc, xjc):\n",
    "    if Sjc is None:\n",
    "        cov_int = np.array(cov)\n",
    "        cov_int = cov_int.take(Sj, axis = 1)\n",
    "        cov_int = cov_int[Sj]        \n",
    "        cov_int = ot.CovarianceMatrix(cov_int)\n",
    "        distribution = ot.Normal(moyenne[Sj],cov_int)\n",
    "        return distribution.getSample(n)\n",
    "    else:\n",
    "        return r_condMVN(n,mean = moyenne, cov = cov, dependent_ind = Sj, given_ind = Sjc, X_given = xjc)\n",
    "\n",
    "# Exact method\n",
    "method = 'exact'\n",
    "m = None\n",
    "Nv = 10**4\n",
    "No = 10**3\n",
    "Ni = 3\n",
    "\n",
    "index = ShapleyPerm(method,m,gaussian_model, Xall, Xcond, d, Nv, No, Ni)\n",
    "print('Exact method \\n' + str(index) + '\\n\\n')\n",
    "\n",
    "# Random method\n",
    "method = 'random'\n",
    "m = 6000\n",
    "Nv = 10**4\n",
    "No = 1\n",
    "Ni = 3\n",
    "\n",
    "index = ShapleyPerm(method,m,gaussian_model, Xall, Xcond, d, Nv, No, Ni)\n",
    "print('Random method \\n' + str(index) + '\\n')"
   ]
  },
  {
   "cell_type": "markdown",
   "metadata": {},
   "source": [
    "### Ni = 100"
   ]
  },
  {
   "cell_type": "code",
   "execution_count": 26,
   "metadata": {},
   "outputs": [
    {
     "name": "stdout",
     "output_type": "stream",
     "text": [
      "Exact method \n",
      "                         X1        X2        X3\n",
      "Shapley effects    0.110139  0.415858  0.474003\n",
      "First order Sobol  0.126404  0.820864  0.878634\n",
      "Total Sobol        0.101887  0.019368  0.077352\n",
      "\n",
      "\n",
      "Random method \n",
      "                         X1        X2        X3\n",
      "Shapley effects    0.107475  0.412271  0.480254\n",
      "First order Sobol  0.117732  0.820460  0.877827\n",
      "Total Sobol        0.102682  0.019599  0.077752\n",
      "\n"
     ]
    }
   ],
   "source": [
    "def gaussian_model(X):\n",
    "    return np.sum(X,1)\n",
    "\n",
    "d = 3\n",
    "moyenne = np.zeros(3)\n",
    "cov = np.array([[1.0, 0, 0], [0, 1.0, 1.8], [0, 1.8, 4.0]])\n",
    "cov = ot.CovarianceMatrix(cov)\n",
    "\n",
    "def Xall(n):\n",
    "    distribution = ot.Normal(moyenne,cov)\n",
    "    return distribution.getSample(n)\n",
    "\n",
    "def Xcond(n, Sj, Sjc, xjc):\n",
    "    if Sjc is None:\n",
    "        cov_int = np.array(cov)\n",
    "        cov_int = cov_int.take(Sj, axis = 1)\n",
    "        cov_int = cov_int[Sj]        \n",
    "        cov_int = ot.CovarianceMatrix(cov_int)\n",
    "        distribution = ot.Normal(moyenne[Sj],cov_int)\n",
    "        return distribution.getSample(n)\n",
    "    else:\n",
    "        return r_condMVN(n,mean = moyenne, cov = cov, dependent_ind = Sj, given_ind = Sjc, X_given = xjc)\n",
    "\n",
    "# Exact method\n",
    "method = 'exact'\n",
    "m = None\n",
    "Nv = 10**4\n",
    "No = 10**3\n",
    "Ni = 100\n",
    "\n",
    "index = ShapleyPerm(method,m,gaussian_model, Xall, Xcond, d, Nv, No, Ni)\n",
    "print('Exact method \\n' + str(index) + '\\n\\n')\n",
    "\n",
    "# Random method\n",
    "method = 'random'\n",
    "m = 6000\n",
    "Nv = 10**4\n",
    "No = 1\n",
    "Ni = 100\n",
    "\n",
    "index = ShapleyPerm(method,m,gaussian_model, Xall, Xcond, d, Nv, No, Ni)\n",
    "print('Random method \\n' + str(index) + '\\n')"
   ]
  }
 ],
 "metadata": {
  "kernelspec": {
   "display_name": "Python 3",
   "language": "python",
   "name": "python3"
  },
  "language_info": {
   "codemirror_mode": {
    "name": "ipython",
    "version": 3
   },
   "file_extension": ".py",
   "mimetype": "text/x-python",
   "name": "python",
   "nbconvert_exporter": "python",
   "pygments_lexer": "ipython3",
   "version": "3.7.7"
  }
 },
 "nbformat": 4,
 "nbformat_minor": 4
}
